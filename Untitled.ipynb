{
 "cells": [
  {
   "cell_type": "code",
   "execution_count": null,
   "id": "8c6ed103-f628-4349-a0d0-0d4caa1bac01",
   "metadata": {},
   "outputs": [
    {
     "name": "stdout",
     "output_type": "stream",
     "text": [
      "Python version: 3.12.4 | packaged by Anaconda, Inc. | (main, Jun 18 2024, 15:03:56) [MSC v.1929 64 bit (AMD64)]\n",
      "\n",
      "Starting Git auto update...\n",
      "Pulled latest changes from main\n",
      "Update complete! Now using commit 02ef871\n",
      "You are up to date with origin/main\n",
      "\n",
      "Checking Python pip package versions...\n",
      "All required packages are installed and up to date.\n",
      "\n",
      "Running bot from command line\n",
      "\n",
      "Action: buy\n",
      "Amount: 1.0\n",
      "Stock: ['NCNC']\n",
      "Time: day\n",
      "Price: market\n",
      "Broker: ['fennel']\n",
      "Not Broker: []\n",
      "DRY: True\n",
      "\n",
      "If correct, press enter to continue...\n"
     ]
    },
    {
     "name": "stdin",
     "output_type": "stream",
     "text": [
      "Otherwise, press ctrl+c to exit \n"
     ]
    },
    {
     "name": "stdout",
     "output_type": "stream",
     "text": [
      "\n",
      "Logging in to Fennel...\n",
      "Failed to refresh token: 'NoneType' object is not subscriptable\n",
      "2FA code sent to email\n"
     ]
    },
    {
     "name": "stdin",
     "output_type": "stream",
     "text": [
      "Enter 2FA code:  851144\n"
     ]
    },
    {
     "name": "stdout",
     "output_type": "stream",
     "text": [
      "Error logging into Fennel: 'NoneType' object is not subscriptable\n",
      "Traceback (most recent call last):\n",
      "  File \"C:\\Users\\Pavel\\Desktop\\rspnew\\auto-rsa\\fennelAPI.py\", line 65, in fennel_init\n",
      "    raise e\n",
      "  File \"C:\\Users\\Pavel\\Desktop\\rspnew\\auto-rsa\\fennelAPI.py\", line 39, in fennel_init\n",
      "    fb.login(\n",
      "  File \"C:\\Users\\Pavel\\anaconda3\\Lib\\site-packages\\fennel_invest_api\\fennel.py\", line 114, in login\n",
      "    self.get_account_ids()\n",
      "  File \"C:\\Users\\Pavel\\anaconda3\\Lib\\site-packages\\fennel_invest_api\\fennel.py\", line 13, in wrapper\n",
      "    return func(self, *args, **kwargs)\n",
      "           ^^^^^^^^^^^^^^^^^^^^^^^^^^^\n",
      "  File \"C:\\Users\\Pavel\\anaconda3\\Lib\\site-packages\\fennel_invest_api\\fennel.py\", line 164, in get_account_ids\n",
      "    response = response.json()[\"data\"][\"user\"][\"accounts\"]\n",
      "               ~~~~~~~~~~~~~~~~~~~~~~~^^^^^^^^\n",
      "TypeError: 'NoneType' object is not subscriptable\n",
      "\n",
      "Failed to refresh token: 'NoneType' object is not subscriptable\n",
      "2FA code sent to email\n"
     ]
    }
   ],
   "source": [
    "run autorsa buy 1 ncnc fennel true"
   ]
  }
 ],
 "metadata": {
  "kernelspec": {
   "display_name": "Python 3 (ipykernel)",
   "language": "python",
   "name": "python3"
  },
  "language_info": {
   "codemirror_mode": {
    "name": "ipython",
    "version": 3
   },
   "file_extension": ".py",
   "mimetype": "text/x-python",
   "name": "python",
   "nbconvert_exporter": "python",
   "pygments_lexer": "ipython3",
   "version": "3.12.4"
  }
 },
 "nbformat": 4,
 "nbformat_minor": 5
}
